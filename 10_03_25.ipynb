{
  "nbformat": 4,
  "nbformat_minor": 0,
  "metadata": {
    "colab": {
      "provenance": [],
      "authorship_tag": "ABX9TyOrPNBJTsX9xtb1KN2HHdHT",
      "include_colab_link": true
    },
    "kernelspec": {
      "name": "python3",
      "display_name": "Python 3"
    },
    "language_info": {
      "name": "python"
    }
  },
  "cells": [
    {
      "cell_type": "markdown",
      "metadata": {
        "id": "view-in-github",
        "colab_type": "text"
      },
      "source": [
        "<a href=\"https://colab.research.google.com/github/YellamatiLakshmi/AD-ASSIGNMENT/blob/main/10_03_25.ipynb\" target=\"_parent\"><img src=\"https://colab.research.google.com/assets/colab-badge.svg\" alt=\"Open In Colab\"/></a>"
      ]
    },
    {
      "cell_type": "code",
      "source": [
        "from pandas import read_csv\n",
        "from sklearn.model_selection import KFold\n",
        "from sklearn.model_selection import cross_val_score\n",
        "from sklearn.ensemble import RandomForestClassifier"
      ],
      "metadata": {
        "id": "kGSwfC3_Ri7c"
      },
      "execution_count": null,
      "outputs": []
    },
    {
      "cell_type": "code",
      "source": [
        "filename = r'/content/pima-indians-diabetes.data.csv'"
      ],
      "metadata": {
        "id": "cp-cHd8gYx5L"
      },
      "execution_count": null,
      "outputs": []
    },
    {
      "cell_type": "code",
      "source": [
        "names = ['preg', 'plas', 'pres', 'skin', 'test', 'mass', 'pedi', 'age', 'class']\n",
        "df = read_csv(filename, names=names)"
      ],
      "metadata": {
        "id": "INwiN7lHY5DG"
      },
      "execution_count": null,
      "outputs": []
    },
    {
      "cell_type": "code",
      "source": [
        "array = df.values"
      ],
      "metadata": {
        "id": "4v1iNYxfYsbh"
      },
      "execution_count": null,
      "outputs": []
    },
    {
      "cell_type": "code",
      "source": [
        "x = array[:,0:8]\n",
        "y = array[:,8]"
      ],
      "metadata": {
        "id": "8Legn4XoYVph"
      },
      "execution_count": null,
      "outputs": []
    },
    {
      "cell_type": "code",
      "source": [
        "num_tress = 100\n",
        "max_features = 3"
      ],
      "metadata": {
        "id": "ztc3iGtqYbaT"
      },
      "execution_count": null,
      "outputs": []
    },
    {
      "cell_type": "code",
      "source": [
        "from sklearn.ensemble import AdaBoostClassifier"
      ],
      "metadata": {
        "id": "ySNOAwweZ_ss"
      },
      "execution_count": null,
      "outputs": []
    },
    {
      "cell_type": "code",
      "source": [
        "x = array[:,0:8]\n",
        "y = array[:,8]"
      ],
      "metadata": {
        "id": "9-5n2noWaAmW"
      },
      "execution_count": null,
      "outputs": []
    },
    {
      "cell_type": "code",
      "source": [
        "num_tress = 10\n",
        "seed = 7"
      ],
      "metadata": {
        "id": "p4IqbYRZaKkQ"
      },
      "execution_count": null,
      "outputs": []
    },
    {
      "cell_type": "code",
      "source": [
        "Kfold = KFold(n_splits = 10, shuffle = True, random_state = seed)\n",
        "model = AdaBoostClassifier(n_estimators = num_tress, random_state = seed)\n",
        "results = cross_val_score(model, x, y, cv = Kfold)\n",
        "print(results.mean())"
      ],
      "metadata": {
        "colab": {
          "base_uri": "https://localhost:8080/"
        },
        "id": "K-uZHx-LaO4o",
        "outputId": "329c8d75-48fb-4e46-f750-07428738d364"
      },
      "execution_count": null,
      "outputs": [
        {
          "output_type": "stream",
          "name": "stdout",
          "text": [
            "0.744771018455229\n"
          ]
        }
      ]
    },
    {
      "cell_type": "code",
      "source": [],
      "metadata": {
        "id": "szezqsFNah2p"
      },
      "execution_count": null,
      "outputs": []
    }
  ]
}